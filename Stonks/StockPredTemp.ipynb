{
 "cells": [
  {
   "cell_type": "code",
   "execution_count": 1,
   "metadata": {},
   "outputs": [
    {
     "name": "stdout",
     "output_type": "stream",
     "text": [
      "Requirement already satisfied: requests in c:\\users\\christopher\\appdata\\local\\programs\\python\\python37-32\\lib\\site-packages (2.28.1)\n",
      "Requirement already satisfied: idna<4,>=2.5 in c:\\users\\christopher\\appdata\\local\\programs\\python\\python37-32\\lib\\site-packages (from requests) (3.4)\n",
      "Requirement already satisfied: certifi>=2017.4.17 in c:\\users\\christopher\\appdata\\local\\programs\\python\\python37-32\\lib\\site-packages (from requests) (2022.9.24)\n",
      "Requirement already satisfied: charset-normalizer<3,>=2 in c:\\users\\christopher\\appdata\\local\\programs\\python\\python37-32\\lib\\site-packages (from requests) (2.1.1)\n",
      "Requirement already satisfied: urllib3<1.27,>=1.21.1 in c:\\users\\christopher\\appdata\\local\\programs\\python\\python37-32\\lib\\site-packages (from requests) (1.26.13)\n"
     ]
    },
    {
     "name": "stderr",
     "output_type": "stream",
     "text": [
      "You are using pip version 10.0.1, however version 22.3.1 is available.\n",
      "You should consider upgrading via the 'python -m pip install --upgrade pip' command.\n"
     ]
    },
    {
     "name": "stdout",
     "output_type": "stream",
     "text": [
      "Collecting bs4\n",
      "  Downloading https://files.pythonhosted.org/packages/10/ed/7e8b97591f6f456174139ec089c769f89a94a1a4025fe967691de971f314/bs4-0.0.1.tar.gz\n",
      "Requirement already satisfied: beautifulsoup4 in c:\\users\\christopher\\appdata\\local\\programs\\python\\python37-32\\lib\\site-packages (from bs4) (4.11.1)\n",
      "Requirement already satisfied: soupsieve>1.2 in c:\\users\\christopher\\appdata\\local\\programs\\python\\python37-32\\lib\\site-packages (from beautifulsoup4->bs4) (2.3.2.post1)\n",
      "Installing collected packages: bs4\n",
      "  Running setup.py install for bs4: started\n",
      "    Running setup.py install for bs4: finished with status 'done'\n",
      "Successfully installed bs4-0.0.1\n"
     ]
    },
    {
     "name": "stderr",
     "output_type": "stream",
     "text": [
      "You are using pip version 10.0.1, however version 22.3.1 is available.\n",
      "You should consider upgrading via the 'python -m pip install --upgrade pip' command.\n"
     ]
    },
    {
     "name": "stdout",
     "output_type": "stream",
     "text": [
      "Requirement already satisfied: numpy in c:\\users\\christopher\\appdata\\local\\programs\\python\\python37-32\\lib\\site-packages (1.21.6)\n"
     ]
    },
    {
     "name": "stderr",
     "output_type": "stream",
     "text": [
      "You are using pip version 10.0.1, however version 22.3.1 is available.\n",
      "You should consider upgrading via the 'python -m pip install --upgrade pip' command.\n"
     ]
    },
    {
     "name": "stdout",
     "output_type": "stream",
     "text": [
      "Requirement already satisfied: sklearn in c:\\users\\christopher\\appdata\\local\\programs\\python\\python37-32\\lib\\site-packages (0.0.post1)\n"
     ]
    },
    {
     "name": "stderr",
     "output_type": "stream",
     "text": [
      "You are using pip version 10.0.1, however version 22.3.1 is available.\n",
      "You should consider upgrading via the 'python -m pip install --upgrade pip' command.\n"
     ]
    },
    {
     "name": "stdout",
     "output_type": "stream",
     "text": [
      "Requirement already satisfied: pandas in c:\\users\\christopher\\appdata\\local\\programs\\python\\python37-32\\lib\\site-packages (1.1.5)\n",
      "Requirement already satisfied: numpy>=1.15.4 in c:\\users\\christopher\\appdata\\local\\programs\\python\\python37-32\\lib\\site-packages (from pandas) (1.21.6)\n",
      "Requirement already satisfied: pytz>=2017.2 in c:\\users\\christopher\\appdata\\local\\programs\\python\\python37-32\\lib\\site-packages (from pandas) (2022.6)\n",
      "Requirement already satisfied: python-dateutil>=2.7.3 in c:\\users\\christopher\\appdata\\local\\programs\\python\\python37-32\\lib\\site-packages (from pandas) (2.8.2)\n",
      "Requirement already satisfied: six>=1.5 in c:\\users\\christopher\\appdata\\local\\programs\\python\\python37-32\\lib\\site-packages (from python-dateutil>=2.7.3->pandas) (1.16.0)\n"
     ]
    },
    {
     "name": "stderr",
     "output_type": "stream",
     "text": [
      "You are using pip version 10.0.1, however version 22.3.1 is available.\n",
      "You should consider upgrading via the 'python -m pip install --upgrade pip' command.\n"
     ]
    },
    {
     "name": "stdout",
     "output_type": "stream",
     "text": [
      "Requirement already satisfied: matplotlib in c:\\users\\christopher\\appdata\\local\\programs\\python\\python37-32\\lib\\site-packages (3.5.3)\n",
      "Requirement already satisfied: packaging>=20.0 in c:\\users\\christopher\\appdata\\local\\programs\\python\\python37-32\\lib\\site-packages (from matplotlib) (21.3)\n",
      "Requirement already satisfied: fonttools>=4.22.0 in c:\\users\\christopher\\appdata\\local\\programs\\python\\python37-32\\lib\\site-packages (from matplotlib) (4.38.0)\n",
      "Requirement already satisfied: kiwisolver>=1.0.1 in c:\\users\\christopher\\appdata\\local\\programs\\python\\python37-32\\lib\\site-packages (from matplotlib) (1.4.4)\n",
      "Requirement already satisfied: pyparsing>=2.2.1 in c:\\users\\christopher\\appdata\\local\\programs\\python\\python37-32\\lib\\site-packages (from matplotlib) (3.0.9)\n",
      "Requirement already satisfied: pillow>=6.2.0 in c:\\users\\christopher\\appdata\\local\\programs\\python\\python37-32\\lib\\site-packages (from matplotlib) (9.3.0)\n",
      "Requirement already satisfied: numpy>=1.17 in c:\\users\\christopher\\appdata\\local\\programs\\python\\python37-32\\lib\\site-packages (from matplotlib) (1.21.6)\n",
      "Requirement already satisfied: python-dateutil>=2.7 in c:\\users\\christopher\\appdata\\local\\programs\\python\\python37-32\\lib\\site-packages (from matplotlib) (2.8.2)\n",
      "Requirement already satisfied: cycler>=0.10 in c:\\users\\christopher\\appdata\\local\\programs\\python\\python37-32\\lib\\site-packages (from matplotlib) (0.11.0)\n",
      "Requirement already satisfied: typing-extensions; python_version < \"3.8\" in c:\\users\\christopher\\appdata\\local\\programs\\python\\python37-32\\lib\\site-packages (from kiwisolver>=1.0.1->matplotlib) (4.4.0)\n",
      "Requirement already satisfied: six>=1.5 in c:\\users\\christopher\\appdata\\local\\programs\\python\\python37-32\\lib\\site-packages (from python-dateutil>=2.7->matplotlib) (1.16.0)\n"
     ]
    },
    {
     "name": "stderr",
     "output_type": "stream",
     "text": [
      "You are using pip version 10.0.1, however version 22.3.1 is available.\n",
      "You should consider upgrading via the 'python -m pip install --upgrade pip' command.\n"
     ]
    },
    {
     "name": "stdout",
     "output_type": "stream",
     "text": [
      "Requirement already satisfied: seaborn in c:\\users\\christopher\\appdata\\local\\programs\\python\\python37-32\\lib\\site-packages (0.12.1)\n",
      "Requirement already satisfied: typing_extensions; python_version < \"3.8\" in c:\\users\\christopher\\appdata\\local\\programs\\python\\python37-32\\lib\\site-packages (from seaborn) (4.4.0)\n",
      "Requirement already satisfied: matplotlib!=3.6.1,>=3.1 in c:\\users\\christopher\\appdata\\local\\programs\\python\\python37-32\\lib\\site-packages (from seaborn) (3.5.3)\n",
      "Requirement already satisfied: pandas>=0.25 in c:\\users\\christopher\\appdata\\local\\programs\\python\\python37-32\\lib\\site-packages (from seaborn) (1.1.5)\n",
      "Requirement already satisfied: numpy>=1.17 in c:\\users\\christopher\\appdata\\local\\programs\\python\\python37-32\\lib\\site-packages (from seaborn) (1.21.6)\n",
      "Requirement already satisfied: cycler>=0.10 in c:\\users\\christopher\\appdata\\local\\programs\\python\\python37-32\\lib\\site-packages (from matplotlib!=3.6.1,>=3.1->seaborn) (0.11.0)\n",
      "Requirement already satisfied: pillow>=6.2.0 in c:\\users\\christopher\\appdata\\local\\programs\\python\\python37-32\\lib\\site-packages (from matplotlib!=3.6.1,>=3.1->seaborn) (9.3.0)\n",
      "Requirement already satisfied: pyparsing>=2.2.1 in c:\\users\\christopher\\appdata\\local\\programs\\python\\python37-32\\lib\\site-packages (from matplotlib!=3.6.1,>=3.1->seaborn) (3.0.9)\n",
      "Requirement already satisfied: fonttools>=4.22.0 in c:\\users\\christopher\\appdata\\local\\programs\\python\\python37-32\\lib\\site-packages (from matplotlib!=3.6.1,>=3.1->seaborn) (4.38.0)\n",
      "Requirement already satisfied: kiwisolver>=1.0.1 in c:\\users\\christopher\\appdata\\local\\programs\\python\\python37-32\\lib\\site-packages (from matplotlib!=3.6.1,>=3.1->seaborn) (1.4.4)\n",
      "Requirement already satisfied: packaging>=20.0 in c:\\users\\christopher\\appdata\\local\\programs\\python\\python37-32\\lib\\site-packages (from matplotlib!=3.6.1,>=3.1->seaborn) (21.3)\n",
      "Requirement already satisfied: python-dateutil>=2.7 in c:\\users\\christopher\\appdata\\local\\programs\\python\\python37-32\\lib\\site-packages (from matplotlib!=3.6.1,>=3.1->seaborn) (2.8.2)\n",
      "Requirement already satisfied: pytz>=2017.2 in c:\\users\\christopher\\appdata\\local\\programs\\python\\python37-32\\lib\\site-packages (from pandas>=0.25->seaborn) (2022.6)\n",
      "Requirement already satisfied: six>=1.5 in c:\\users\\christopher\\appdata\\local\\programs\\python\\python37-32\\lib\\site-packages (from python-dateutil>=2.7->matplotlib!=3.6.1,>=3.1->seaborn) (1.16.0)\n"
     ]
    },
    {
     "name": "stderr",
     "output_type": "stream",
     "text": [
      "You are using pip version 10.0.1, however version 22.3.1 is available.\n",
      "You should consider upgrading via the 'python -m pip install --upgrade pip' command.\n"
     ]
    }
   ],
   "source": [
    "# Webscrapping\n",
    "!pip install requests\n",
    "!pip install bs4\n",
    "\n",
    "# Other libraries\n",
    "!pip install numpy\n",
    "!pip install sklearn\n",
    "!pip install pandas\n",
    "!pip install matplotlib\n",
    "!pip install seaborn"
   ]
  },
  {
   "cell_type": "code",
   "execution_count": 2,
   "metadata": {},
   "outputs": [],
   "source": [
    "import requests\n",
    "from bs4 import BeautifulSoup\n",
    "\n",
    "import numpy as np\n",
    "import matplotlib.pyplot as plt\n",
    "import seaborn as sns\n",
    "import pandas as pd\n",
    "import math\n",
    "from sklearn.linear_model import LinearRegression\n",
    "from sklearn.model_selection import train_test_split\n",
    "from sklearn.tree import DecisionTreeRegressor"
   ]
  },
  {
   "cell_type": "code",
   "execution_count": 24,
   "metadata": {},
   "outputs": [],
   "source": [
    "url = 'https://www.wsj.com/market-data/quotes/etf/SPY/historical-prices'\n",
    "r = requests.get(url)\n",
    "soup = BeautifulSoup(r.content, 'html.parser')\n",
    "htmlTable = soup.find_all('table class=\"cr_dataTable\"')"
   ]
  },
  {
   "cell_type": "code",
   "execution_count": 25,
   "metadata": {},
   "outputs": [
    {
     "name": "stdout",
     "output_type": "stream",
     "text": [
      "[]\n"
     ]
    }
   ],
   "source": [
    "print(htmlTable)"
   ]
  }
 ],
 "metadata": {
  "kernelspec": {
   "display_name": "Python 3.7.0 32-bit",
   "language": "python",
   "name": "python3"
  },
  "language_info": {
   "codemirror_mode": {
    "name": "ipython",
    "version": 3
   },
   "file_extension": ".py",
   "mimetype": "text/x-python",
   "name": "python",
   "nbconvert_exporter": "python",
   "pygments_lexer": "ipython3",
   "version": "3.7.0"
  },
  "orig_nbformat": 4,
  "vscode": {
   "interpreter": {
    "hash": "6c20f8cc3dd17300d0e41062a80530961ced549bcd3f735732bde5d5430b8daf"
   }
  }
 },
 "nbformat": 4,
 "nbformat_minor": 2
}
